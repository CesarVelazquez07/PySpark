{
 "cells": [
  {
   "cell_type": "markdown",
   "metadata": {},
   "source": [
    "# Clean & Analyze Social Media"
   ]
  },
  {
   "cell_type": "markdown",
   "metadata": {},
   "source": [
    "## Introduction\n",
    "\n",
    "Social media has become a ubiquitous part of modern life, with platforms such as Instagram, Twitter, and Facebook serving as essential communication channels. Social media data sets are vast and complex, making analysis a challenging task for businesses and researchers alike. In this project, we explore a simulated social media, for example Tweets, data set to understand trends in likes across different categories.\n",
    "\n",
    "## Prerequisites\n",
    "\n",
    "To follow along with this project, you should have a basic understanding of Python programming and data analysis concepts. In addition, you may want to use the following packages in your Python environment:\n",
    "\n",
    "- pandas\n",
    "- Matplotlib\n",
    "- ...\n",
    "\n",
    "These packages should already be installed in Coursera's Jupyter Notebook environment, however if you'd like to install additional packages that are not included in this environment or are working off platform you can install additional packages using `!pip install packagename` within a notebook cell such as:\n",
    "\n",
    "- `!pip install pandas`\n",
    "- `!pip install matplotlib`\n",
    "\n",
    "## Project Scope\n",
    "\n",
    "The objective of this project is to analyze tweets (or other social media data) and gain insights into user engagement. We will explore the data set using visualization techniques to understand the distribution of likes across different categories. Finally, we will analyze the data to draw conclusions about the most popular categories and the overall engagement on the platform.\n",
    "\n",
    "## Step 1: Importing Required Libraries\n",
    "\n",
    "As the name suggests, the first step is to import all the necessary libraries that will be used in the project. In this case, we need pandas, numpy, matplotlib, seaborn, and random libraries.\n",
    "\n",
    "Pandas is a library used for data manipulation and analysis. Numpy is a library used for numerical computations. Matplotlib is a library used for data visualization. Seaborn is a library used for statistical data visualization. Random is a library used to generate random numbers."
   ]
  },
  {
   "cell_type": "code",
   "execution_count": 1,
   "metadata": {},
   "outputs": [],
   "source": [
    "# your code here\n",
    "import pandas as pd          # Manejo y análisis de datos\n",
    "import numpy as np           # Operaciones numéricas\n",
    "import matplotlib.pyplot as plt  # Gráficos básicos\n",
    "import seaborn as sns    "
   ]
  },
  {
   "cell_type": "code",
   "execution_count": 3,
   "metadata": {},
   "outputs": [
    {
     "name": "stdout",
     "output_type": "stream",
     "text": [
      "\u001b[33mWARNING: You are using pip version 21.3.1; however, version 24.0 is available.\r\n",
      "You should consider upgrading via the '/opt/conda/bin/python3 -m pip install --upgrade pip' command.\u001b[0m\r\n"
     ]
    }
   ],
   "source": [
    "# Cargar dataset desde Hugging Face directamente\n",
    "!pip install datasets --quiet"
   ]
  },
  {
   "cell_type": "code",
   "execution_count": 11,
   "metadata": {},
   "outputs": [
    {
     "name": "stdout",
     "output_type": "stream",
     "text": [
      "\u001b[33mWARNING: You are using pip version 21.3.1; however, version 24.0 is available.\n",
      "You should consider upgrading via the '/opt/conda/bin/python3 -m pip install --upgrade pip' command.\u001b[0m\n",
      "Downloading and preparing dataset csv/dwisaji--twitter-minggu-sentiment-dataset to /home/jovyan/.cache/huggingface/datasets/dwisaji___csv/dwisaji--twitter-minggu-sentiment-dataset-8eafc905a432401d/0.0.0/eea64c71ca8b46dd3f537ed218fc9bf495d5707789152eb2764f5c78fa66d59d...\n"
     ]
    },
    {
     "data": {
      "application/vnd.jupyter.widget-view+json": {
       "model_id": "5b2b10d03fd7452f9d06137bde09de1c",
       "version_major": 2,
       "version_minor": 0
      },
      "text/plain": [
       "Downloading data files:   0%|          | 0/1 [00:00<?, ?it/s]"
      ]
     },
     "metadata": {},
     "output_type": "display_data"
    },
    {
     "data": {
      "application/vnd.jupyter.widget-view+json": {
       "model_id": "42241a24444f4606b2a9cac7bce8de6e",
       "version_major": 2,
       "version_minor": 0
      },
      "text/plain": [
       "Downloading data: 0.00B [00:00, ?B/s]"
      ]
     },
     "metadata": {},
     "output_type": "display_data"
    },
    {
     "data": {
      "application/vnd.jupyter.widget-view+json": {
       "model_id": "6605c0526269451eab4fc590471d5bb4",
       "version_major": 2,
       "version_minor": 0
      },
      "text/plain": [
       "Extracting data files:   0%|          | 0/1 [00:00<?, ?it/s]"
      ]
     },
     "metadata": {},
     "output_type": "display_data"
    },
    {
     "data": {
      "application/vnd.jupyter.widget-view+json": {
       "model_id": "",
       "version_major": 2,
       "version_minor": 0
      },
      "text/plain": [
       "Generating train split: 0 examples [00:00, ? examples/s]"
      ]
     },
     "metadata": {},
     "output_type": "display_data"
    },
    {
     "name": "stdout",
     "output_type": "stream",
     "text": [
      "Dataset csv downloaded and prepared to /home/jovyan/.cache/huggingface/datasets/dwisaji___csv/dwisaji--twitter-minggu-sentiment-dataset-8eafc905a432401d/0.0.0/eea64c71ca8b46dd3f537ed218fc9bf495d5707789152eb2764f5c78fa66d59d. Subsequent calls will reuse this data.\n"
     ]
    },
    {
     "data": {
      "application/vnd.jupyter.widget-view+json": {
       "model_id": "07107e961f3a497c8a45cb384bacdc78",
       "version_major": 2,
       "version_minor": 0
      },
      "text/plain": [
       "  0%|          | 0/1 [00:00<?, ?it/s]"
      ]
     },
     "metadata": {},
     "output_type": "display_data"
    },
    {
     "data": {
      "text/html": [
       "<div>\n",
       "<style scoped>\n",
       "    .dataframe tbody tr th:only-of-type {\n",
       "        vertical-align: middle;\n",
       "    }\n",
       "\n",
       "    .dataframe tbody tr th {\n",
       "        vertical-align: top;\n",
       "    }\n",
       "\n",
       "    .dataframe thead th {\n",
       "        text-align: right;\n",
       "    }\n",
       "</style>\n",
       "<table border=\"1\" class=\"dataframe\">\n",
       "  <thead>\n",
       "    <tr style=\"text-align: right;\">\n",
       "      <th></th>\n",
       "      <th>tweet</th>\n",
       "      <th>sentiment</th>\n",
       "      <th>label</th>\n",
       "      <th>score</th>\n",
       "    </tr>\n",
       "  </thead>\n",
       "  <tbody>\n",
       "    <tr>\n",
       "      <th>0</th>\n",
       "      <td>RT @sukajajan_x: Baju kemeja motif untuk kulia...</td>\n",
       "      <td>neutral</td>\n",
       "      <td>1</td>\n",
       "      <td>0.947212</td>\n",
       "    </tr>\n",
       "    <tr>\n",
       "      <th>1</th>\n",
       "      <td>RT @LOKALVideo08: abang sales gue grepein di m...</td>\n",
       "      <td>neutral</td>\n",
       "      <td>1</td>\n",
       "      <td>0.985920</td>\n",
       "    </tr>\n",
       "    <tr>\n",
       "      <th>2</th>\n",
       "      <td>RT @hazelssie: ☁️totebag kiyowo☁️\\n\\n⭐️4.9 htt...</td>\n",
       "      <td>neutral</td>\n",
       "      <td>1</td>\n",
       "      <td>0.977968</td>\n",
       "    </tr>\n",
       "    <tr>\n",
       "      <th>3</th>\n",
       "      <td>@citrabellana Malam minggu ja yang kada mampu ...</td>\n",
       "      <td>neutral</td>\n",
       "      <td>1</td>\n",
       "      <td>0.961750</td>\n",
       "    </tr>\n",
       "    <tr>\n",
       "      <th>4</th>\n",
       "      <td>RT @cosxinus: Tas sling bag canvas buat coolye...</td>\n",
       "      <td>neutral</td>\n",
       "      <td>1</td>\n",
       "      <td>0.950132</td>\n",
       "    </tr>\n",
       "  </tbody>\n",
       "</table>\n",
       "</div>"
      ],
      "text/plain": [
       "                                               tweet sentiment  label  \\\n",
       "0  RT @sukajajan_x: Baju kemeja motif untuk kulia...   neutral      1   \n",
       "1  RT @LOKALVideo08: abang sales gue grepein di m...   neutral      1   \n",
       "2  RT @hazelssie: ☁️totebag kiyowo☁️\\n\\n⭐️4.9 htt...   neutral      1   \n",
       "3  @citrabellana Malam minggu ja yang kada mampu ...   neutral      1   \n",
       "4  RT @cosxinus: Tas sling bag canvas buat coolye...   neutral      1   \n",
       "\n",
       "      score  \n",
       "0  0.947212  \n",
       "1  0.985920  \n",
       "2  0.977968  \n",
       "3  0.961750  \n",
       "4  0.950132  "
      ]
     },
     "execution_count": 11,
     "metadata": {},
     "output_type": "execute_result"
    }
   ],
   "source": [
    "# Cargar el dataset\n",
    "ds = load_dataset(\"dwisaji/twitter-minggu-sentiment-dataset\")\n",
    "\n",
    "# Convertir la partición 'train' en un DataFrame de pandas\n",
    "df = ds[\"train\"].to_pandas()\n",
    "\n",
    "# Mostrar las primeras filas\n",
    "df.head()\n"
   ]
  },
  {
   "cell_type": "code",
   "execution_count": 12,
   "metadata": {},
   "outputs": [
    {
     "data": {
      "image/png": "[encoded data removed]",
      "text/plain": [
       "<Figure size 432x288 with 1 Axes>"
      ]
     },
     "metadata": {
      "needs_background": "light"
     },
     "output_type": "display_data"
    },
    {
     "data": {
      "text/plain": [
       "neutral     0.723501\n",
       "negative    0.159309\n",
       "positive    0.117189\n",
       "Name: sentiment, dtype: float64"
      ]
     },
     "execution_count": 12,
     "metadata": {},
     "output_type": "execute_result"
    }
   ],
   "source": [
    "#¿Cómo está distribuido el sentimiento de los tweets?\n",
    "sns.countplot(x='sentiment', data=df, palette='Set2')\n",
    "plt.title('Distribución de sentimientos en los tweets')\n",
    "plt.xlabel('Sentimiento')\n",
    "plt.ylabel('Cantidad de tweets')\n",
    "plt.show()\n",
    "\n",
    "df['sentiment'].value_counts(normalize=True)\n"
   ]
  },
  {
   "cell_type": "code",
   "execution_count": 13,
   "metadata": {},
   "outputs": [
    {
     "data": {
      "image/png": "[encoded data removed]",
      "text/plain": [
       "<Figure size 432x288 with 1 Axes>"
      ]
     },
     "metadata": {
      "needs_background": "light"
     },
     "output_type": "display_data"
    },
    {
     "data": {
      "text/plain": [
       "sentiment\n",
       "negative     90.936207\n",
       "neutral     156.915885\n",
       "positive    122.198509\n",
       "Name: tweet_length, dtype: float64"
      ]
     },
     "execution_count": 13,
     "metadata": {},
     "output_type": "execute_result"
    }
   ],
   "source": [
    "#¿Qué tan largos son los tweets según su sentimiento?\n",
    "df['tweet_length'] = df['tweet'].apply(len)\n",
    "sns.boxplot(x='sentiment', y='tweet_length', data=df, palette='pastel')\n",
    "plt.title('Longitud de tweets por sentimiento')\n",
    "plt.show()\n",
    "\n",
    "df.groupby('sentiment')['tweet_length'].mean()\n"
   ]
  },
  {
   "cell_type": "code",
   "execution_count": 15,
   "metadata": {},
   "outputs": [
    {
     "data": {
      "image/png": "[encoded data removed]",
      "text/plain": [
       "<Figure size 432x288 with 1 Axes>"
      ]
     },
     "metadata": {
      "needs_background": "light"
     },
     "output_type": "display_data"
    }
   ],
   "source": [
    "#¿Cuál es la distribución del nivel de confianza (score)?\n",
    "plt.hist(df['score'], bins=30, color='lightgreen', edgecolor='black')\n",
    "plt.title('Distribución del nivel de confianza del modelo')\n",
    "plt.xlabel('Score')\n",
    "plt.ylabel('Frecuencia')\n",
    "plt.show()"
   ]
  },
  {
   "cell_type": "code",
   "execution_count": 17,
   "metadata": {},
   "outputs": [
    {
     "name": "stdout",
     "output_type": "stream",
     "text": [
      "sentiment\n",
      "negative    0.862130\n",
      "neutral     0.912929\n",
      "positive    0.815710\n",
      "Name: score, dtype: float64\n"
     ]
    }
   ],
   "source": [
    "#¿Qué tipo de sentimiento tiene el puntaje (score) más alto en promedio?\n",
    "promedios = df.groupby('sentiment')['score'].mean()\n",
    "print(promedios)"
   ]
  },
  {
   "cell_type": "code",
   "execution_count": 18,
   "metadata": {},
   "outputs": [
    {
     "data": {
      "image/png": "[encoded data removed]",
      "text/plain": [
       "<Figure size 432x288 with 1 Axes>"
      ]
     },
     "metadata": {
      "needs_background": "light"
     },
     "output_type": "display_data"
    }
   ],
   "source": [
    "import matplotlib.pyplot as plt\n",
    "\n",
    "promedios.plot(kind='bar', color=['red', 'gray', 'green'])\n",
    "plt.title('Promedio del nivel de confianza (score) por tipo de sentimiento')\n",
    "plt.xlabel('Sentimiento')\n",
    "plt.ylabel('Score promedio')\n",
    "plt.show()"
   ]
  },
  {
   "cell_type": "code",
   "execution_count": 19,
   "metadata": {},
   "outputs": [
    {
     "data": {
      "image/png": "[encoded data removed]",
      "text/plain": [
       "<Figure size 432x288 with 1 Axes>"
      ]
     },
     "metadata": {
      "needs_background": "light"
     },
     "output_type": "display_data"
    },
    {
     "data": {
      "text/plain": [
       "sentiment\n",
       "negative    0.862130\n",
       "neutral     0.912929\n",
       "positive    0.815710\n",
       "Name: score, dtype: float64"
      ]
     },
     "execution_count": 19,
     "metadata": {},
     "output_type": "execute_result"
    }
   ],
   "source": [
    "#¿Existen diferencias notables en la confianza (score) entre los sentimientos?\n",
    "sns.boxplot(x='sentiment', y='score', data=df, palette='cool')\n",
    "plt.title('Nivel de confianza del modelo por tipo de sentimiento')\n",
    "plt.show()\n",
    "\n",
    "df.groupby('sentiment')['score'].mean()\n"
   ]
  },
  {
   "cell_type": "code",
   "execution_count": 20,
   "metadata": {},
   "outputs": [
    {
     "data": {
      "text/html": [
       "<div>\n",
       "<style scoped>\n",
       "    .dataframe tbody tr th:only-of-type {\n",
       "        vertical-align: middle;\n",
       "    }\n",
       "\n",
       "    .dataframe tbody tr th {\n",
       "        vertical-align: top;\n",
       "    }\n",
       "\n",
       "    .dataframe thead th {\n",
       "        text-align: right;\n",
       "    }\n",
       "</style>\n",
       "<table border=\"1\" class=\"dataframe\">\n",
       "  <thead>\n",
       "    <tr style=\"text-align: right;\">\n",
       "      <th></th>\n",
       "      <th>tweet_length</th>\n",
       "      <th>score</th>\n",
       "    </tr>\n",
       "  </thead>\n",
       "  <tbody>\n",
       "    <tr>\n",
       "      <th>tweet_length</th>\n",
       "      <td>1.000000</td>\n",
       "      <td>0.089679</td>\n",
       "    </tr>\n",
       "    <tr>\n",
       "      <th>score</th>\n",
       "      <td>0.089679</td>\n",
       "      <td>1.000000</td>\n",
       "    </tr>\n",
       "  </tbody>\n",
       "</table>\n",
       "</div>"
      ],
      "text/plain": [
       "              tweet_length     score\n",
       "tweet_length      1.000000  0.089679\n",
       "score             0.089679  1.000000"
      ]
     },
     "execution_count": 20,
     "metadata": {},
     "output_type": "execute_result"
    }
   ],
   "source": [
    "#¿Hay correlación entre la longitud del tweet y el score del modelo?\n",
    "corr = df[['tweet_length', 'score']].corr()\n",
    "corr\n"
   ]
  },
  {
   "cell_type": "code",
   "execution_count": 22,
   "metadata": {},
   "outputs": [
    {
     "data": {
      "text/plain": [
       "tweet           0\n",
       "sentiment       0\n",
       "label           0\n",
       "score           0\n",
       "tweet_length    0\n",
       "clean_tweet     0\n",
       "dtype: int64"
      ]
     },
     "execution_count": 22,
     "metadata": {},
     "output_type": "execute_result"
    }
   ],
   "source": [
    "#¿Existen valores faltantes o incompletos en el dataset?\n",
    "df.isnull().sum()"
   ]
  },
  {
   "cell_type": "code",
   "execution_count": 24,
   "metadata": {},
   "outputs": [
    {
     "name": "stdout",
     "output_type": "stream",
     "text": [
      "Tamaño original: (25190, 6)\n",
      "Tamaño después de la limpieza: (25190, 6)\n"
     ]
    }
   ],
   "source": [
    "print(\"Tamaño original:\", df.shape)\n",
    "df = df.dropna()\n",
    "print(\"Tamaño después de la limpieza:\", df.shape)"
   ]
  },
  {
   "cell_type": "code",
   "execution_count": 25,
   "metadata": {},
   "outputs": [
    {
     "name": "stdout",
     "output_type": "stream",
     "text": [
      "Valores faltantes después de la limpieza: 0\n"
     ]
    }
   ],
   "source": [
    "valores_faltantes = df.isnull().sum().sum()\n",
    "print(f\"Valores faltantes después de la limpieza: {valores_faltantes}\")"
   ]
  },
  {
   "cell_type": "code",
   "execution_count": null,
   "metadata": {},
   "outputs": [],
   "source": []
  }
 ],
 "metadata": {
  "kernelspec": {
   "display_name": "Python 3",
   "language": "python",
   "name": "python3"
  },
  "language_info": {
   "codemirror_mode": {
    "name": "ipython",
    "version": 3
   },
   "file_extension": ".py",
   "mimetype": "text/x-python",
   "name": "python",
   "nbconvert_exporter": "python",
   "pygments_lexer": "ipython3",
   "version": "3.7.6"
  }
 },
 "nbformat": 4,
 "nbformat_minor": 4
}
